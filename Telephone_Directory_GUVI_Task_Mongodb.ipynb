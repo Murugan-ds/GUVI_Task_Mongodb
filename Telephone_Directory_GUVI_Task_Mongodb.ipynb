{
 "cells": [
  {
   "cell_type": "markdown",
   "id": "3430e1d2",
   "metadata": {},
   "source": [
    "Telephone Directory CRUD Operation"
   ]
  },
  {
   "cell_type": "code",
   "execution_count": 21,
   "id": "571df093",
   "metadata": {},
   "outputs": [
    {
     "name": "stdout",
     "output_type": "stream",
     "text": [
      "['Student', 'admin', 'config', 'local']\n"
     ]
    }
   ],
   "source": [
    "import pymongo\n",
    "myclient=pymongo.MongoClient(\"mongodb://localhost:27017\")\n",
    "#creating database Telephone_Directory\n",
    "db=myclient[\"Telephone_Directory\"]\n",
    "#creating collection Telephone\n",
    "mycol=db[\"Telephone\"]\n",
    "#checking existing database\n",
    "alldb=myclient.list_database_names()\n",
    "print(alldb)"
   ]
  },
  {
   "cell_type": "code",
   "execution_count": 22,
   "id": "9a8f430f",
   "metadata": {},
   "outputs": [
    {
     "name": "stdout",
     "output_type": "stream",
     "text": [
      "{'_id': ObjectId('63b041883a555e18fcc7b917'), 'name': 'aimee Zank', 'phone': '3216549870', 'place': 'chennai'}\n",
      "{'_id': ObjectId('63b041883a555e18fcc7b918'), 'name': 'Aurelia Menendez', 'phone': '9876543210', 'place': 'trichy'}\n",
      "{'_id': ObjectId('63b041883a555e18fcc7b919'), 'name': 'Corliss Zuk', 'phone': '3692581470', 'place': 'madurai'}\n",
      "{'_id': ObjectId('63b041883a555e18fcc7b91a'), 'name': 'Bao Ziglar', 'phone': '1472583690', 'place': 'bangalore'}\n",
      "{'_id': ObjectId('63b041883a555e18fcc7b91b'), 'name': 'Zachary Langlais', 'phone': '9516328740', 'place': 'villupuram'}\n"
     ]
    }
   ],
   "source": [
    "#creating name,phone_number,place \n",
    "mylist=[\n",
    "    {\"name\":\"aimee Zank\",\"phone\":\"3216549870\",\"place\":\"chennai\"},\n",
    "    {\"name\":\"Aurelia Menendez\",\"phone\":\"9876543210\",\"place\":\"trichy\"},\n",
    "    {\"name\":\"Corliss Zuk\",\"phone\":\"3692581470\",\"place\":\"madurai\"},\n",
    "    {\"name\":\"Bao Ziglar\",\"phone\":\"1472583690\",\"place\":\"bangalore\"},\n",
    "    {\"name\":\"Zachary Langlais\",\"phone\":\"9516328740\",\"place\":\"villupuram\"}\n",
    "]\n",
    "#Insert the record into the collection\n",
    "mycol.insert_many(mylist)\n",
    "#Make a query to find records you just created\n",
    "for i in mycol.find():\n",
    "    print(i)"
   ]
  },
  {
   "cell_type": "code",
   "execution_count": 23,
   "id": "8f70c77f",
   "metadata": {},
   "outputs": [
    {
     "name": "stdout",
     "output_type": "stream",
     "text": [
      "{'_id': ObjectId('63b041883a555e18fcc7b917'), 'name': 'aimee Zank', 'phone': '3216549870', 'place': 'chennai'}\n",
      "{'_id': ObjectId('63b041883a555e18fcc7b918'), 'name': 'Aurelia Menendez', 'phone': '9876543210', 'place': 'trichy'}\n",
      "{'_id': ObjectId('63b041883a555e18fcc7b919'), 'name': 'Corliss Zuk', 'phone': '3692581470', 'place': 'madurai'}\n",
      "{'_id': ObjectId('63b041883a555e18fcc7b91a'), 'name': 'Bao Ziglar', 'phone': '1472583690', 'place': 'bangalore'}\n",
      "{'_id': ObjectId('63b041883a555e18fcc7b91b'), 'name': 'Zachary Langlais', 'phone': '9516328740', 'place': 'thiruvanamalai'}\n"
     ]
    }
   ],
   "source": [
    "#Modify the records, use the update_one() method. The update_one() method requires two arguments, query and update\n",
    "query={\"name\":\"Zachary Langlais\"}\n",
    "update={\"$set\":{\"place\":\"thiruvanamalai\"}}\n",
    "#will update only one first occurance\n",
    "mycol.update_one(query,update)\n",
    "#to visualize the data updated\n",
    "for i in mycol.find():\n",
    "    print(i)"
   ]
  },
  {
   "cell_type": "code",
   "execution_count": 24,
   "id": "1b2d8612",
   "metadata": {},
   "outputs": [
    {
     "name": "stdout",
     "output_type": "stream",
     "text": [
      "{'_id': ObjectId('63b041883a555e18fcc7b917'), 'name': 'aimee Zank', 'phone': '3216549870', 'place': 'chennai'}\n",
      "{'_id': ObjectId('63b041883a555e18fcc7b918'), 'name': 'Aurelia Menendez', 'phone': '9876543210', 'place': 'trichy'}\n",
      "{'_id': ObjectId('63b041883a555e18fcc7b919'), 'name': 'Corliss Zuk', 'phone': '3692581470', 'place': 'madurai'}\n",
      "{'_id': ObjectId('63b041883a555e18fcc7b91b'), 'name': 'Zachary Langlais', 'phone': '9516328740', 'place': 'thiruvanamalai'}\n"
     ]
    }
   ],
   "source": [
    "#Delete the record, use delete_one() method. delete_one() requires a query parameter which specifies the document to delete.\n",
    "query={\"phone\":\"1472583690\"}\n",
    "#will delete only one first occurance\n",
    "mycol.delete_one(query)\n",
    "#to visualize the data updated\n",
    "for i in mycol.find():\n",
    "    print(i)"
   ]
  }
 ],
 "metadata": {
  "kernelspec": {
   "display_name": "Python 3 (ipykernel)",
   "language": "python",
   "name": "python3"
  },
  "language_info": {
   "codemirror_mode": {
    "name": "ipython",
    "version": 3
   },
   "file_extension": ".py",
   "mimetype": "text/x-python",
   "name": "python",
   "nbconvert_exporter": "python",
   "pygments_lexer": "ipython3",
   "version": "3.8.2"
  }
 },
 "nbformat": 4,
 "nbformat_minor": 5
}
